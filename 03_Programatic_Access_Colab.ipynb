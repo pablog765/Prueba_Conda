{
  "nbformat": 4,
  "nbformat_minor": 0,
  "metadata": {
    "colab": {
      "provenance": [],
      "include_colab_link": true
    },
    "kernelspec": {
      "name": "python3",
      "display_name": "Python 3"
    },
    "language_info": {
      "name": "python"
    }
  },
  "cells": [
    {
      "cell_type": "markdown",
      "metadata": {
        "id": "view-in-github",
        "colab_type": "text"
      },
      "source": [
        "<a href=\"https://colab.research.google.com/github/pablog765/Prueba_Conda/blob/main/03_Programatic_Access_Colab.ipynb\" target=\"_parent\"><img src=\"https://colab.research.google.com/assets/colab-badge.svg\" alt=\"Open In Colab\"/></a>"
      ]
    },
    {
      "cell_type": "markdown",
      "source": [
        "# **Introduction**\n",
        "\n",
        "In this tutorial, you will learn how to access retrospective and forecast model data from the GEOGloWS API using Python. We will cover how to send a request to the API, retrieve the data in CSV format, and save it to a local file for analysis. This is useful for obtaining historical hydrological data for a specific location."
      ],
      "metadata": {
        "id": "0n-S_YPScTxT"
      }
    },
    {
      "cell_type": "markdown",
      "source": [
        "# **Retrospective Simulation**\n",
        "\n",
        "\n"
      ],
      "metadata": {
        "id": "xpjSMrTpO1Um"
      }
    },
    {
      "cell_type": "markdown",
      "source": [
        "## **Version 1: Using `requests` and `pandas`**\n",
        "\n",
        "Below is a Python script that retrieves retrospective model data for a specified COMID (a unique identifier for a location in the GEOGloWS model) and saves the data to a CSV file.\n",
        "\n",
        "*   `comid` represents the unique identifier for the location you are interested in. You should replace `760684821` with your own COMID as needed.\n",
        "*   `url` is the API endpoint for the retrospective data request. The COMID is included in the URL to specify which location’s data you want to retrieve.\n",
        "*   `params` defines the query parameters for the API request. Here, `\"format\": \"csv\"` specifies that we want the data in CSV format, and `\"start_date\": \"19400101\"` sets the starting date for the data retrieval.\n",
        "*   `headers` specifies that we accept the response in CSV format.\n",
        "*   We use `requests.get` to send a GET request to the API endpoint with the specified URL, headers, and parameters.\n",
        "*   We check if the request was successful by verifying if the HTTP status code is `200`.\n",
        "*   If successful, the response content is read into a `pandas` DataFrame.\n",
        "*   The DataFrame is then saved to a CSV file named using the COMID.\n",
        "*   If the request fails, we print an error message along with the status code and response text for debugging purposes.\n",
        "\n",
        "```python\n",
        "import io\n",
        "import requests\n",
        "import pandas as pd\n",
        "\n",
        "comid = 760684821\n",
        "\n",
        "# API endpoint and parameters\n",
        "url = \"https://geoglows.ecmwf.int/api/v2/retrospective/{}\".format(comid)\n",
        "params = {\n",
        "    \"format\": \"csv\",\n",
        "    \"start_date\": \"19400101\"\n",
        "}\n",
        "\n",
        "# Headers\n",
        "headers = {\n",
        "    \"accept\": \"text/csv\"\n",
        "}\n",
        "\n",
        "# Make the GET request\n",
        "response = requests.get(url, headers=headers, params=params)\n",
        "\n",
        "# Check if the request was successful\n",
        "if response.status_code == 200:\n",
        "    # Convert the response content to a DataFrame\n",
        "    data = pd.read_csv(io.StringIO(response.content.decode('utf-8')))\n",
        "\n",
        "    # Save the DataFrame to a CSV file\n",
        "    data.to_csv(\"{}_retrospective_data.csv\".format(comid), index=False)\n",
        "    \n",
        "    print(\"Data has been saved to {}_retrospective_data.csv\".format(comid))\n",
        "\n",
        "else:\n",
        "    print(f\"Failed to retrieve data. HTTP Status code: {response.status_code}\")\n",
        "    print(response.text)\n",
        "```"
      ],
      "metadata": {
        "id": "ew7lj9kZZNn8"
      }
    },
    {
      "cell_type": "code",
      "execution_count": null,
      "metadata": {
        "id": "AKFHDVJnkvc3"
      },
      "outputs": [],
      "source": [
        "import io\n",
        "import requests\n",
        "import pandas as pd\n",
        "\n",
        "comid = 760684821\n",
        "\n",
        "# API endpoint and parameters\n",
        "url = \"https://geoglows.ecmwf.int/api/v2/retrospective/{}\".format(comid)\n",
        "params = {\n",
        "    \"format\": \"csv\",\n",
        "    \"start_date\": \"19400101\"\n",
        "}\n",
        "\n",
        "# Headers\n",
        "headers = {\n",
        "    \"accept\": \"text/csv\"\n",
        "}\n",
        "\n",
        "# Make the GET request\n",
        "response = requests.get(url, headers=headers, params=params)\n",
        "\n",
        "# Check if the request was successful\n",
        "if response.status_code == 200:\n",
        "    # Convert the response content to a DataFrame\n",
        "    data = pd.read_csv(io.StringIO(response.content.decode('utf-8')))\n",
        "\n",
        "    # Save the DataFrame to a CSV file\n",
        "    data.to_csv(\"{}_retrospective_data.csv\".format(comid), index=False)\n",
        "\n",
        "    print(\"Data has been saved to {}_retrospective_data.csv\".format(comid))\n",
        "\n",
        "else:\n",
        "    print(f\"Failed to retrieve data. HTTP Status code: {response.status_code}\")\n",
        "    print(response.text)"
      ]
    },
    {
      "cell_type": "markdown",
      "source": [
        "## **Version 2: Using the `geoglows` package**\n",
        "\n",
        "### The `geoglows.data.retrospective` Function\n",
        "\n",
        "To obtain the retrospective simulation for any river segment, you need the corresponding `comid`.\n",
        "\n",
        "The function `geoglows.data.retrospective` retrieves the retrospective simulation of streamflow for a given `river_id` from the AWS Open Data Program GEOGLOWS V2 S3 bucket. Here’s how to use it:\n",
        "\n",
        "- **Arguments**:\n",
        "  - `river_id` (int): the ID of a stream, should be a 9-digit integer.\n",
        "  - `format` (str): the format to return the data, either 'df' for DataFrame or 'xarray'. This argument is optional and defaults to 'df'.\n",
        "  \n",
        "- **Returns**:\n",
        "  - `pd.DataFrame`: This contains the streamflow data.\n",
        "\n",
        "### The `geoglows.plots.retrospective` Function\n",
        "This function is used for plotting data from historical simulations and return periods.\n",
        "\n",
        "- **Parameters**:\n",
        "- `df` (required): A DataFrame containing the historical simulation data.\n",
        "- `plot_type` (str, optional): The type of plot to create, defaults to 'plotly'.\n",
        "- `rp_df` (optional): A DataFrame containing the return periods. This parameter is optional.\n",
        "- `plot_titles` (optional): A text string or list of strings for the titles of the graphs, which is also optional.\n",
        "\n",
        "Example of usage:\n",
        "\n",
        "```python\n",
        "!pip install geoglows\n",
        "\n",
        "import geoglows\n",
        "import pandas as pd\n",
        "import datetime as dt\n",
        "\n",
        "comid = 760684821\n",
        "\n",
        "simulated_df = geoglows.data.retrospective(comid)\n",
        "simulated_df.index = pd.to_datetime(simulated_df.index)\n",
        "simulated_df[simulated_df < 0] = 0\n",
        "simulated_df.index = simulated_df.index.to_series().dt.strftime(\"%Y-%m-%d\")\n",
        "simulated_df.index = pd.to_datetime(simulated_df.index)\n",
        "\n",
        "simulated_df.to_csv(\"{}_retroespective_data.csv\".format(comid))\n",
        "\n",
        "hydroviewer_figure = geoglows.plots.retrospective(simulated_df)\n",
        "hydroviewer_figure.show()\n",
        "\n",
        "```"
      ],
      "metadata": {
        "id": "CGU2lke5miuR"
      }
    },
    {
      "cell_type": "code",
      "source": [
        "!pip install geoglows\n",
        "\n",
        "import geoglows\n",
        "import pandas as pd\n",
        "import datetime as dt\n",
        "\n",
        "comid = 760684821\n",
        "\n",
        "simulated_df = geoglows.data.retrospective(comid)\n",
        "simulated_df.index = pd.to_datetime(simulated_df.index)\n",
        "simulated_df[simulated_df < 0] = 0\n",
        "simulated_df.index = simulated_df.index.to_series().dt.strftime(\"%Y-%m-%d\")\n",
        "simulated_df.index = pd.to_datetime(simulated_df.index)\n",
        "\n",
        "simulated_df.to_csv(\"{}_retroespective_data.csv\".format(comid))\n",
        "\n",
        "hydroviewer_figure = geoglows.plots.retrospective(simulated_df)\n",
        "hydroviewer_figure.show()"
      ],
      "metadata": {
        "id": "3tokpU2Rmzbo"
      },
      "execution_count": null,
      "outputs": []
    },
    {
      "cell_type": "markdown",
      "source": [
        "# **Forecast**\n"
      ],
      "metadata": {
        "id": "Qgz_UCkpO8Uj"
      }
    },
    {
      "cell_type": "markdown",
      "source": [
        "## **Using the `geoglows` package**\n",
        "\n",
        "### The `geoglows.data.forecast` Function\n",
        "To obtain the forecast simulation for any river segment, you need the corresponding `comid`.\n",
        "\n",
        "The function `geoglows.data.forecast` retrieves the average forecasted flow for a certain `river_id` on a certain date. Here’s how to use it:\n",
        "\n",
        "- **Arguments**:\n",
        "  - `river_id` (int): the ID of a stream, should be a 9-digit integer.\n",
        "  - `date` (str, optional): Specifies the date to request in YYYYMMDD format, returns the latest available if not specified.\n",
        "  - `format` (str): the format to return the data, either 'df' for DataFrame or 'xarray'. This argument is optional and defaults to 'df'.\n",
        "  - `data_source` (str, optional): Specifies the source of the data. Options are 'rest' (GEOGLOWS Rest API) or 'aws' (AWS Open Data Program GEOGLOWS V2 S3 bucket). The default is 'aws'.\n",
        "\n",
        "- **Returns**:\n",
        "  - `pd.DataFrame` or `dict` or `str`: This contains the streamflow data.\n",
        "\n",
        "### The `geoglows.plots.forecast` Function\n",
        "\n",
        "The `geoglows.plots.forecast` function is designed to plot forecasted streamflow data that can be crucial for water resource management and planning. It allows the incorporation of return period data to contextualize the forecasts within historical statistical ranges.\n",
        "\n",
        "- **Arguments**:\n",
        "  - **df** (`pandas.core.frame.DataFrame`): The DataFrame containing the forecasted streamflow data. This is typically retrieved from `geoglows.data.forecast`.\n",
        "  - **plot_type** (`str`, optional): Specifies the type of plot to generate, with 'plotly' as the default option.\n",
        "  - **rp_df** (`pandas.core.frame.DataFrame`, optional): An optional DataFrame that includes return period data, which helps in comparing forecasted flows against historical extremes.\n",
        "  - **plot_titles** (`list`, optional): A list of strings to enhance the plot's title, providing more context or information. Each string in the list appears on a new line in the plot's title.\n",
        "\n",
        "- **Returns**:\n",
        "  - **go.Figure**: A Plotly graph object figure, which can be displayed directly in a Jupyter notebook or saved as an HTML file for sharing or further analysis.\n",
        "\n",
        "\n",
        "```python\n",
        "!pip install geoglows\n",
        "\n",
        "import geoglows\n",
        "import pandas as pd\n",
        "import datetime as dt\n",
        "\n",
        "comid = 760684821\n",
        "\n",
        "forecast_data = geoglows.data.forecast(comid)\n",
        "forecast_data.index = pd.to_datetime(forecast_data.index)\n",
        "forecast_data[forecast_data < 0] = 0\n",
        "forecast_data.index = forecast_data.index.to_series().dt.strftime(\"%Y-%m-%d %H:%M:%S\")\n",
        "forecast_data.index = pd.to_datetime(forecast_data.index)\n",
        "\n",
        "forecast_data.to_csv(\"{}_forecast_data.csv\".format(comid))\n",
        "\n",
        "hydroviewer_figure = geoglows.plots.forecast(df=forecast_data, plot_type = 'plotly')\n",
        "hydroviewer_figure.show()\n",
        "\n",
        "```"
      ],
      "metadata": {
        "id": "RuLCcCbCzSCO"
      }
    },
    {
      "cell_type": "code",
      "source": [
        "!pip install geoglows\n",
        "\n",
        "import geoglows\n",
        "import pandas as pd\n",
        "import datetime as dt\n",
        "\n",
        "comid = 760684821\n",
        "\n",
        "forecast_data = geoglows.data.forecast(comid)\n",
        "forecast_data.index = pd.to_datetime(forecast_data.index)\n",
        "forecast_data[forecast_data < 0] = 0\n",
        "forecast_data.index = forecast_data.index.to_series().dt.strftime(\"%Y-%m-%d %H:%M:%S\")\n",
        "forecast_data.index = pd.to_datetime(forecast_data.index)\n",
        "\n",
        "forecast_data.to_csv(\"{}_forecast_data.csv\".format(comid))\n",
        "\n",
        "hydroviewer_figure = geoglows.plots.forecast(df=forecast_data, plot_type = 'plotly')\n",
        "hydroviewer_figure.show()"
      ],
      "metadata": {
        "id": "hw3x60OTzTbd"
      },
      "execution_count": null,
      "outputs": []
    },
    {
      "cell_type": "markdown",
      "source": [
        "# Forecast Ensembles"
      ],
      "metadata": {
        "id": "YkE6nfqCPAd7"
      }
    },
    {
      "cell_type": "markdown",
      "source": [
        "## **Using the `geoglows` package**\n",
        "\n",
        "### The `geoglows.data.forecast_ensembles` Function\n",
        "To obtain the forecast ensembles simulation for any river segment, you need the corresponding `comid`.\n",
        "\n",
        "The function `geoglows.data.forecast_ensembles` retrieves the forecast ensembles simulation of streamflow for a given `river_id`. Here’s how to use it:\n",
        "\n",
        "- **Arguments**:\n",
        "  - `river_id` (int): the ID of a stream, should be a 9-digit integer.\n",
        "  - `format` (str): the format to return the data, either 'df' for DataFrame or 'xarray'. This argument is optional and defaults to 'df'.\n",
        "  - `date` (str, optional): Specifies the date for which to retrieve forecast data in YYYYMMDD format. If not specified, the latest available data will be returned.\n",
        "  - `data_source` (str, optional): Specifies the source of the data. Options are 'rest' (GEOGLOWS Rest API) or 'aws' (AWS Open Data Program GEOGLOWS V2 S3 bucket). The default is 'aws'.\n",
        "\n",
        "- **Returns**:\n",
        "  - `pd.DataFrame` or `dict` or `str`: This contains the streamflow data.\n",
        "\n",
        "### The `geoglows.plots.forecast_ensembles` Function\n",
        "\n",
        "The `geoglows.plots.forecast_ensembles` function creates interactive visualizations using Plotly, which can help in analyzing the range and impact of forecasted streamflows under different scenarios.\n",
        "\n",
        "- **Arguments**:\n",
        "  - **df** (`pandas.core.frame.DataFrame`): The DataFrame containing the forecast ensemble data obtained from `geoglows.data.forecast_ensembles`.\n",
        "  - **plot_type** (`str`, optional): Specifies the type of plot to generate, with 'plotly' as the default option.\n",
        "  - **rp_df** (`pandas.core.frame.DataFrame`, optional): An optional DataFrame that includes return period data, which helps compare forecasted flows with historical extremes.\n",
        "  - **plot_titles** (`list`, optional): A list of strings to enhance the plot title, providing more context or information. Each string in the list appears on a new line in the plot title.\n",
        "\n",
        "- **Returns**:\n",
        "  - **go.Figure**: A Plotly graphical object that can be displayed directly in a Jupyter notebook or saved as an HTML file for sharing or further analysis.\n",
        "\n",
        "```python\n",
        "!pip install geoglows\n",
        "\n",
        "import geoglows\n",
        "import pandas as pd\n",
        "import datetime as dt\n",
        "\n",
        "comid = 760684821\n",
        "\n",
        "forecast_data = geoglows.data.forecast_ensembles(comid)\n",
        "forecast_data.index = pd.to_datetime(forecast_data.index)\n",
        "forecast_data[forecast_data < 0] = 0\n",
        "forecast_data.index = forecast_data.index.to_series().dt.strftime(\"%Y-%m-%d %H:%M:%S\")\n",
        "forecast_data.index = pd.to_datetime(forecast_data.index)\n",
        "\n",
        "forecast_data.to_csv(\"{}_forecast_data.csv\".format(comid))\n",
        "\n",
        "hydroviewer_figure = geoglows.plots.forecast_ensembles(df=forecast_data, plot_type = 'plotly')\n",
        "hydroviewer_figure.show()\n",
        "```"
      ],
      "metadata": {
        "id": "HkAXR1wJp6Sb"
      }
    },
    {
      "cell_type": "code",
      "source": [
        "!pip install geoglows\n",
        "\n",
        "import geoglows\n",
        "import pandas as pd\n",
        "import datetime as dt\n",
        "\n",
        "comid = 760684821\n",
        "\n",
        "forecast_data = geoglows.data.forecastensembles(comid)\n",
        "forecast_data.index = pd.to_datetime(forecast_data.index)\n",
        "forecast_data[forecast_data < 0] = 0\n",
        "forecast_data.index = forecast_data.index.to_series().dt.strftime(\"%Y-%m-%d %H:%M:%S\")\n",
        "forecast_data.index = pd.to_datetime(forecast_data.index)\n",
        "\n",
        "forecast_data.to_csv(\"{}_forecast_data.csv\".format(comid))\n",
        "\n",
        "hydroviewer_figure = geoglows.plots.forecast(df=forecast_data, plot_type = 'plotly')\n",
        "hydroviewer_figure.show()"
      ],
      "metadata": {
        "id": "p_8Sez-PPLOR"
      },
      "execution_count": null,
      "outputs": []
    },
    {
      "cell_type": "markdown",
      "source": [
        "# Forecast Stats"
      ],
      "metadata": {
        "id": "51qQVI4HPCxZ"
      }
    },
    {
      "cell_type": "markdown",
      "source": [
        "## **Using the `geoglows` package**\n",
        "\n",
        "### The `geoglows.data.forecast_stats` Function\n",
        "To obtain a summary for the forecast ensembles, we can get the  the forecast stats, which includes the min, 25%, mean, median, 75%, and max river discharge of the 51 ensembles members for a river_id. The 52nd higher resolution member is also included in the forecast stats, you need the corresponding `comid`.\n",
        "\n",
        "The function `geoglows.data.forecast_stats` retrieves the forecast ensembles simulation of streamflow for a given `river_id`. Here’s how to use it:\n",
        "\n",
        "- **Arguments**:\n",
        "  - `river_id` (int): the ID of a stream, should be a 9-digit integer.\n",
        "  - `format` (str): the format to return the data, either 'df' for DataFrame or 'xarray'. This argument is optional and defaults to 'df'.\n",
        "  - `date` (str, optional): Specifies the date for which to retrieve forecast data in YYYYMMDD format. If not specified, the latest available data will be returned.\n",
        "  - `data_source` (str, optional): Specifies the source of the data. Options are 'rest' (GEOGLOWS Rest API) or 'aws' (AWS Open Data Program GEOGLOWS V2 S3 bucket). The default is 'aws'.\n",
        "\n",
        "- **Returns**:\n",
        "  - `pd.DataFrame` or `dict` or `str`: This contains the streamflow data.\n",
        "\n",
        "### The `geoglows.plots.forecast_stats` Function\n",
        "\n",
        "The `geoglows.plots.forecast_stats` function creates interactive visualizations using Plotly, which can help in analyzing the range and impact of forecasted streamflows under different scenarios.\n",
        "\n",
        "- **Arguments**:\n",
        "  - **df** (`pandas.core.frame.DataFrame`): The DataFrame containing the forecast stats data retrieved from `geoglows.data.forecast_stats`.\n",
        "  - **plot_type** (`str`, optional): Specifies the type of plot to create. The default is 'plotly'.\n",
        "  - **rp_df** (`pandas.core.frame.DataFrame`, optional): A DataFrame containing the return period data. Including this data provides context for the forecast by showing thresholds of statistical significance.\n",
        "  - **plot_titles** (`list`, optional): A list of strings that will be included in the figure's title. Each item in the list will appear on a new line, allowing for detailed descriptions.\n",
        "\n",
        "- **Returns**:\n",
        "  - **go.Figure**: A Plotly graph object figure that can be displayed in a Jupyter notebook or saved to HTML.\n",
        "\n",
        "```python\n",
        "!pip install geoglows\n",
        "\n",
        "import geoglows\n",
        "import pandas as pd\n",
        "import datetime as dt\n",
        "\n",
        "comid = 760684821\n",
        "\n",
        "forecast_data = geoglows.data.forecast_stats(comid)\n",
        "forecast_data.index = pd.to_datetime(forecast_data.index)\n",
        "forecast_data[forecast_data < 0] = 0\n",
        "forecast_data.index = forecast_data.index.to_series().dt.strftime(\"%Y-%m-%d %H:%M:%S\")\n",
        "forecast_data.index = pd.to_datetime(forecast_data.index)\n",
        "\n",
        "forecast_data.to_csv(\"{}_forecast_data.csv\".format(comid))\n",
        "\n",
        "hydroviewer_figure = geoglows.plots.forecast_stats(df=forecast_data, plot_type = 'plotly')\n",
        "hydroviewer_figure.show()\n",
        "```"
      ],
      "metadata": {
        "id": "U0xRINKDv1ST"
      }
    },
    {
      "cell_type": "code",
      "source": [
        "!pip install geoglows\n",
        "\n",
        "import geoglows\n",
        "import pandas as pd\n",
        "import datetime as dt\n",
        "\n",
        "comid = 760684821\n",
        "\n",
        "forecast_data = geoglows.data.forecast_stats(comid)\n",
        "forecast_data.index = pd.to_datetime(forecast_data.index)\n",
        "forecast_data[forecast_data < 0] = 0\n",
        "forecast_data.index = forecast_data.index.to_series().dt.strftime(\"%Y-%m-%d %H:%M:%S\")\n",
        "forecast_data.index = pd.to_datetime(forecast_data.index)\n",
        "\n",
        "forecast_data.to_csv(\"{}_forecast_data.csv\".format(comid))\n",
        "\n",
        "hydroviewer_figure = geoglows.plots.forecast_stats(df=forecast_data, plot_type = 'plotly')\n",
        "hydroviewer_figure.show()"
      ],
      "metadata": {
        "id": "kwiWtFg3PKmn"
      },
      "execution_count": null,
      "outputs": []
    }
  ]
}